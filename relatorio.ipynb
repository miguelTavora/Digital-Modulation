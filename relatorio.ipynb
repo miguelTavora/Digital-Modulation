{
 "cells": [
  {
   "cell_type": "markdown",
   "metadata": {},
   "source": [
    "# Trabalho prático 3"
   ]
  },
  {
   "cell_type": "markdown",
   "metadata": {},
   "source": [
    "# Trabalho realizado por:"
   ]
  },
  {
   "cell_type": "markdown",
   "metadata": {},
   "source": [
    "-Miguel Silvestre Nº45101"
   ]
  },
  {
   "cell_type": "markdown",
   "metadata": {},
   "source": [
    "-Miguel Távora    Nº45102"
   ]
  },
  {
   "cell_type": "markdown",
   "metadata": {},
   "source": [
    "-Pedro Dias       Nº45170"
   ]
  },
  {
   "cell_type": "markdown",
   "metadata": {},
   "source": [
    "# Introdução "
   ]
  },
  {
   "cell_type": "markdown",
   "metadata": {},
   "source": [
    "Para o presente trabalho prático consiste em realizar uma modulação e desmodulação QPSK e a simulação de um canal AWGN.\n",
    "\n",
    "A partir das funções de modulação e do canal e com as funções realizadas nos anterior trabalhos práticos, irá ser simulada a transmissão completa de um sinal por todas as funções."
   ]
  },
  {
   "cell_type": "code",
   "execution_count": 5,
   "metadata": {},
   "outputs": [],
   "source": [
    "import numpy as np\n",
    "from matplotlib import pyplot as plt\n",
    "from PIL import Image\n",
    "from scipy import special"
   ]
  },
  {
   "cell_type": "markdown",
   "metadata": {},
   "source": [
    "# Exercício 1"
   ]
  },
  {
   "cell_type": "markdown",
   "metadata": {},
   "source": [
    "A modulação QPSK consiste em atribuir uma fase de um cos a cada conjunto de 2 bits."
   ]
  },
  {
   "cell_type": "code",
   "execution_count": 6,
   "metadata": {},
   "outputs": [],
   "source": [
    "def modulation_QPSK(signal,npoints,eb):\n",
    "\n",
    "\tcontinous = np.arange(len(signal)*int(npoints/2),dtype = np.float64)\n",
    "\n",
    "\ttime = np.arange(npoints)\n",
    "\tamplitude = np.sqrt(eb*2)\n",
    "\n",
    "\t#criar cossenos para cada fase possível\n",
    "\tcoss = amplitude*np.cos(((2*np.pi)/npoints)*time+(np.pi/4))\n",
    "\tcoss1 = amplitude*np.cos(((2*np.pi)/npoints)*time+(np.pi-np.pi/4))\n",
    "\tcoss2 = amplitude*np.cos(((2*np.pi)/npoints)*time+(np.pi+np.pi/4))\n",
    "\tcoss3 = amplitude*np.cos(((2*np.pi)/npoints)*time+(-np.pi/4))\n",
    "\t\n",
    "\t#atribuição dos npoints dos cossenos para cada conjunto 2 bits\n",
    "\tfor a in range(int(len(signal)/2)):\n",
    "\t\tif(signal[a*2] == 0 and signal[a*2+1] == 0):\n",
    "\t\t\tcontinous[a*npoints:a*npoints+npoints] = coss[:]\n",
    "\n",
    "\t\telif(signal[a*2] == 0 and signal[a*2+1] == 1):\n",
    "\t\t\tcontinous[a*npoints:a*npoints+npoints] = coss1[:]\n",
    "\n",
    "\t\telif(signal[a*2] == 1 and signal[a*2+1] == 0):\n",
    "\t\t\tcontinous[a*npoints:a*npoints+npoints] = coss2[:]\n",
    "\n",
    "\t\telse:\n",
    "\t\t\tcontinous[a*npoints:a*npoints+npoints] = coss3[:]\n",
    "\n",
    "\treturn continous"
   ]
  },
  {
   "cell_type": "markdown",
   "metadata": {},
   "source": [
    "Os pontos atribuidos para cada fase foi:\n",
    "-  π/4 -> [0,0]\n",
    "- 3π/4 -> [0,1]\n",
    "- 5π/4 -> [1,0]\n",
    "- 7π/4 -> [1,1]"
   ]
  },
  {
   "cell_type": "markdown",
   "metadata": {},
   "source": [
    "# Exercício 2"
   ]
  },
  {
   "cell_type": "markdown",
   "metadata": {},
   "source": [
    "A desmodulação consiste em cada conjunto de npontos ir buscar os dois bits que o geraram."
   ]
  },
  {
   "cell_type": "code",
   "execution_count": 7,
   "metadata": {},
   "outputs": [],
   "source": [
    "def demodulation_QPSK(signal,npoints,eb):\n",
    "\n",
    "\titeration = int(len(signal)/npoints)\n",
    "\n",
    "\tdiscrete = np.zeros(int(len(signal)/int((npoints/2))),dtype=np.uint8)\n",
    "\n",
    "\tphase = np.array([[0,0],[0,1],[1,0],[1,1]],dtype=np.uint8)\n",
    "\n",
    "\tn = np.arange(0,npoints)\n",
    "\n",
    "\t#sen e con generico para multiplicar\n",
    "\tcs = np.cos(((2*np.pi)*n/npoints))\n",
    "\tcs2 = np.sin(((2*np.pi)*n/npoints))\n",
    "\n",
    "\tfor c in range(iteration):\n",
    "\t\t#buscar o npoints do sinal multiplicar pelo sen e cos generico\n",
    "\t\t#final sumar tudo e verificar a fase\n",
    "\t\ty = signal[c*npoints:c*npoints+npoints]\n",
    "\t\tci = np.dot(cs,y)\n",
    "\t\tsi = np.dot(cs2,y)\n",
    "\n",
    "\t\ts1 = np.sum(si*np.sqrt(2*eb))\n",
    "\t\tc1 = np.sum(ci*np.sqrt(2*eb))\n",
    "\n",
    "\t\tif(s1 > 0 and  c1 > 0):\n",
    "\t\t\tdiscrete[c*2:c*2+2] = phase[3]\n",
    "\n",
    "\t\telif(s1 > 0 and c1 < 0 ):\n",
    "\t\t\tdiscrete[c*2:c*2+2] = phase[2]\n",
    "\n",
    "\t\telif(s1 < 0 and c1 < 0 ):\n",
    "\t\t\tdiscrete[c*2:c*2+2] = phase[1]\n",
    "\n",
    "\t\telif(s1< 0 and c1 > 0 ):\n",
    "\t\t\tdiscrete[c*2:c*2+2] = phase[0]\n",
    "\n",
    "\t\telse:\n",
    "\t\t\tprint(\"erro\")\n",
    "\n",
    "\treturn discrete"
   ]
  },
  {
   "cell_type": "markdown",
   "metadata": {},
   "source": [
    "Para sabes a que fase pertence cada conjunto de dois bits, foi verificado o quadrante da somatório da multiplicação por um sen e cos generico de cada conjunto de npontos."
   ]
  },
  {
   "cell_type": "markdown",
   "metadata": {},
   "source": [
    "# Exercício 3"
   ]
  },
  {
   "cell_type": "markdown",
   "metadata": {},
   "source": [
    "O canal AWGN consiste em adicionar ruído ao sinal modulado."
   ]
  },
  {
   "cell_type": "code",
   "execution_count": 8,
   "metadata": {},
   "outputs": [],
   "source": [
    "def AWGN_channel(signal,noise):\n",
    "\t#o np.random.randn retorna um array e para cada valor do QPSK é adicionado o valor do ruido\n",
    "\treturn signal + np.sqrt(noise) * np.random.randn(len(signal))"
   ]
  },
  {
   "cell_type": "markdown",
   "metadata": {},
   "source": [
    "Para simular o ruído amultiplica-se ao valor escolhido como ruído um valor aleatório e incrementa-se esse valor no sinal."
   ]
  },
  {
   "cell_type": "markdown",
   "metadata": {},
   "source": [
    "# Exercício 4"
   ]
  },
  {
   "cell_type": "code",
   "execution_count": null,
   "metadata": {},
   "outputs": [],
   "source": [
    "Demonstração grafica dos cossenos:"
   ]
  },
  {
   "cell_type": "code",
   "execution_count": 3,
   "metadata": {},
   "outputs": [
    {
     "data": {
      "image/png": "[encoded data removed]",
      "text/plain": [
       "<Figure size 432x288 with 1 Axes>"
      ]
     },
     "metadata": {
      "needs_background": "light"
     },
     "output_type": "display_data"
    }
   ],
   "source": [
    "def show_graph(signal):\n",
    "\n",
    "\tvalue = modulation_QPSK(signal,200,100)\n",
    "\n",
    "\tplt.plot(value)\n",
    "\n",
    "\tplt.show()\n",
    "    \n",
    "show_graph([0,0,0,1,1,0,1,1])"
   ]
  },
  {
   "cell_type": "code",
   "execution_count": null,
   "metadata": {},
   "outputs": [],
   "source": [
    "Comparação dos valores com os valores:"
   ]
  },
  {
   "cell_type": "code",
   "execution_count": 8,
   "metadata": {},
   "outputs": [
    {
     "name": "stdout",
     "output_type": "stream",
     "text": [
      "Número de valores iguais em 8 para Ruído de 1e-1: 8\n",
      "Número de valores iguais em 8 para Ruído de 0.5: 8\n",
      "Número de valores iguais em 8 para Ruído de 1: 8\n",
      "Número de valores iguais em 8 para Ruído de 2: 6\n"
     ]
    }
   ],
   "source": [
    "def compare_with(sign,sign_noise):\n",
    "\tcount = 0\n",
    "\n",
    "\tfor a in range(len(sign)):\n",
    "\t\tif(sign[a] ==  sign_noise[a]):\n",
    "\t\t\tcount+= 1\n",
    "\n",
    "\treturn count\n",
    "\n",
    "bin_sequence = [0,1,1,0,1,1,0,0]\n",
    "\n",
    "ex_mod = modulation_QPSK(bin_sequence,8,1)\n",
    "\n",
    "ex_mod_channel= AWGN_channel(ex_mod,1e-1)\n",
    "\n",
    "ex_demod = demodulation_QPSK(ex_mod_channel,8,1)\n",
    "\n",
    "compare_1 = compare_with(bin_sequence,ex_demod)\n",
    "\n",
    "print(\"Número de valores iguais em 8 para Ruído de 1e-1:\",compare_1)\n",
    "\n",
    "\n",
    "#################################################\n",
    "\n",
    "ex_mod_channel_1= AWGN_channel(ex_mod,0.5)\n",
    "\n",
    "ex_demod_1 = demodulation_QPSK(ex_mod_channel_1,8,1)\n",
    "\n",
    "compare_2 = compare_with(bin_sequence,ex_demod_1)\n",
    "\n",
    "print(\"Número de valores iguais em 8 para Ruído de 0.5:\",compare_2)\n",
    "\n",
    "\n",
    "#################################################\n",
    "\n",
    "ex_mod_channel_2= AWGN_channel(ex_mod,1)\n",
    "\n",
    "ex_demod_2 = demodulation_QPSK(ex_mod_channel_2,8,1)\n",
    "\n",
    "compare_3 = compare_with(bin_sequence,ex_demod_2)\n",
    "\n",
    "print(\"Número de valores iguais em 8 para Ruído de 1:\",compare_3)\n",
    "\n",
    "#################################################\n",
    "\n",
    "ex_mod_channel_3= AWGN_channel(ex_mod,2)\n",
    "\n",
    "ex_demod_3 = demodulation_QPSK(ex_mod_channel_3,8,1)\n",
    "\n",
    "compare_4 = compare_with(bin_sequence,ex_demod_3)\n",
    "\n",
    "print(\"Número de valores iguais em 8 para Ruído de 2:\",compare_4)"
   ]
  },
  {
   "cell_type": "markdown",
   "metadata": {},
   "source": [
    "# Exercicio 5"
   ]
  },
  {
   "cell_type": "code",
   "execution_count": null,
   "metadata": {},
   "outputs": [],
   "source": [
    "Para a realização do exercício foram utilizados os valores fornecidos no enunciado"
   ]
  },
  {
   "cell_type": "code",
   "execution_count": 9,
   "metadata": {},
   "outputs": [],
   "source": [
    "def criarTabelas (bits, vMax, typeQ):\n",
    "    quantificacao = []\n",
    "    decisao = []\n",
    "\n",
    "    delta = (2.0*vMax)/2**bits\n",
    "\n",
    "    if(typeQ == \"midrise\"):\n",
    "        # 1o termo = vMax - delta/2\n",
    "        decisao = np.arange (-vMax + delta, vMax + delta, delta) # Decisao\n",
    "        quantificacao = np.arange (-vMax + (delta/2), vMax, delta) # Quantificao\n",
    "\n",
    "    elif (typeQ == \"midtread\"):\n",
    "        # 1o termo = vMax\n",
    "        decisao = np.arange (-vMax + delta/2, vMax, delta)\n",
    "        quantificacao = np.arange (-vMax + delta, vMax + delta, delta)\n",
    "    else:\n",
    "        print (\"Erro\")\n",
    "\n",
    "    return quantificacao, decisao\n",
    "    \n",
    "def quantifica_sinal(sinal,nbits):\n",
    "    \n",
    "    vMax = np.max(sinal)\n",
    "    niveis_quantizacao,niveis_decisao = criarTabelas(nbits, vMax, 'midrise')\n",
    "    \n",
    "    indices_quantizacao = lambda l : np.searchsorted(niveis_decisao,sinal)\n",
    "    lista_indices_quantizacao = indices_quantizacao(sinal)\n",
    "    \n",
    "    valores_quantizados = lambda i : niveis_quantizacao[lista_indices_quantizacao]\n",
    "    \n",
    "    return (indices_quantizacao(sinal).astype(np.uint8),valores_quantizados(lista_indices_quantizacao))"
   ]
  },
  {
   "cell_type": "code",
   "execution_count": 10,
   "metadata": {},
   "outputs": [],
   "source": [
    "def codificador(signal,R):\n",
    "\n",
    "\t#vai buscar os ultimos bits dependendo de R, adiciona 0 a esquerda aos que n chega ao valor R de bits\n",
    "    bin_values= list(map(lambda x: np.binary_repr(x).zfill(R)[-R:],signal))\n",
    "\n",
    "\n",
    "\t#separa os bits de string para char tipo: '0101' -> '0','1','0','1'\n",
    "    every_bit = np.array(list(map(lambda x: list(x),bin_values)))\n",
    "\n",
    "\t#transformar ndarray 2d em 1d\n",
    "    d1_copy = every_bit.ravel()#pode ser ravel ou flatten(flatten cria uma copia, ravel aponta pra mesma memoria)\n",
    "\n",
    "\t#converter char pra int\n",
    "    d1_copy = d1_copy.astype(np.uint8)\n",
    "\n",
    "    return d1_copy\n",
    "\n",
    "def cod_image(width,height,padding):\n",
    "\n",
    "    st_width = np.array(list(np.binary_repr(width)))\n",
    "\n",
    "    st_height = np.array(list(np.binary_repr(height)))\n",
    "\n",
    "    pre_value = np.insert(padding,0,st_height)\n",
    "\n",
    "    result = np.insert(pre_value,0,st_width).astype(np.uint8)\n",
    "\n",
    "    return result\n",
    "\n",
    "def descodifier(signal,nbits):\n",
    "    number = 0\n",
    "\n",
    "    #array para guardar os valores\n",
    "    values = np.arange(len(signal)/nbits)\n",
    "\n",
    "    #convete num array bidimensional\n",
    "    signal_2d = np.reshape(signal,(-1,nbits))\n",
    "\n",
    "    #dois ciclos para ir a cada posição e multiplicar por 2 o indice\n",
    "    for n in range(len(signal_2d)):\n",
    "        for i in range(len(signal_2d[0])):\n",
    "             number=2*number+signal_2d[n][i]\n",
    "\n",
    "        values[n] = number\n",
    "        number = 0\n",
    "\n",
    "    return values.astype(np.uint8)\n",
    "\n",
    "\n",
    "\n",
    "def descodifica_sindroma(s,size):\n",
    "    n=0\n",
    "    \n",
    "    int_value = np.arange(size)\n",
    "    for i in range(len(s)):\n",
    "        for j in range(4):\n",
    "            n=2*n+s[i][j]\n",
    "        int_value[i] = n\n",
    "        n=0\n",
    "    return int_value\n",
    "\n",
    "def descod_numbers(number,division):\n",
    "    num = 0\n",
    "    num2 = 0\n",
    "    values = [] \n",
    "\n",
    "    for i in range(len(number)-division):\n",
    "        num=2*num+number[i]\n",
    "\n",
    "    for l in range(len(number)-division,len(number)):\n",
    "        num2=2*num2+number[l]\n",
    "\n",
    "    values.append(num)\n",
    "    values.append(num2)\n",
    "    return values\n",
    "\n",
    "def descod_number(number):\n",
    "    num = 0\n",
    "\n",
    "    for i in range(len(number)):\n",
    "        num=2*num+number[i]\n",
    "\n",
    "    return num"
   ]
  },
  {
   "cell_type": "code",
   "execution_count": 11,
   "metadata": {},
   "outputs": [],
   "source": [
    "def cria_dicionario(indices, valores):\n",
    "\n",
    "\tDict = {}\n",
    "\n",
    "\tfor a in range(len(indices)):\n",
    "\t\tif indices[a] in Dict.keys():\n",
    "\t\t\tcontinue\n",
    "\t\telse:\n",
    "\t\t\tDict[indices[a]] = valores[a]\n",
    "\n",
    "\treturn Dict\n",
    "\n",
    "\n",
    "def desquantifica(indices, dicionario):\n",
    "\n",
    "\tresult = np.zeros(len(indices))\n",
    "\n",
    "\tfor a in range(len(indices)):\n",
    "\t\tresult[a] = dicionario.get(indices[a])\n",
    "\n",
    "\treturn result.astype(np.uint8)"
   ]
  },
  {
   "cell_type": "code",
   "execution_count": 12,
   "metadata": {},
   "outputs": [],
   "source": [
    "Tabela={\n",
    "0:[0,0,0,0,0,0,0,0,0,0,0,0,0,0,0],\n",
    "12:[1,0,0,0,0,0,0,0,0,0,0,0,0,0,0],\n",
    "10:[0,1,0,0,0,0,0,0,0,0,0,0,0,0,0],\n",
    "9:[0,0,1,0,0,0,0,0,0,0,0,0,0,0,0],\n",
    "6:[0,0,0,1,0,0,0,0,0,0,0,0,0,0,0],\n",
    "5:[0,0,0,0,1,0,0,0,0,0,0,0,0,0,0],\n",
    "3:[0,0,0,0,0,1,0,0,0,0,0,0,0,0,0],\n",
    "14:[0,0,0,0,0,0,1,0,0,0,0,0,0,0,0],\n",
    "13:[0,0,0,0,0,0,0,1,0,0,0,0,0,0,0],\n",
    "11:[0,0,0,0,0,0,0,0,1,0,0,0,0,0,0],\n",
    "7:[0,0,0,0,0,0,0,0,0,1,0,0,0,0,0],\n",
    "15:[0,0,0,0,0,0,0,0,0,0,1,0,0,0,0],\n",
    "8:[0,0,0,0,0,0,0,0,0,0,0,1,0,0,0],\n",
    "4:[0,0,0,0,0,0,0,0,0,0,0,0,1,0,0],\n",
    "2:[0,0,0,0,0,0,0,0,0,0,0,0,0,1,0],\n",
    "1:[0,0,0,0,0,0,0,0,0,0,0,0,0,0,1],\n",
    "}\n",
    "\n",
    "\n",
    "def hamming(mensagem):\n",
    "        l=[11-len(mensagem)%11]\n",
    "        P= np.array([[1,1,0,0],[1,0,1,0],[1,0,0,1],[0,1,1,0],[0,1,0,1],[0,0,1,1],[1,1,1,0],[1,1,0,1],[1,0,1,1],[0,1,1,1],[1,1,1,1]])\n",
    "        l=codificador(l,4)\n",
    "      \n",
    "        G= np.hstack((np.eye(11),P))\n",
    "        \n",
    "        if(len(mensagem)%11!=0):mensagem= np.pad(mensagem,(0,(11-len(mensagem)%11)),'constant')\n",
    "        \n",
    "        mensagem = np.reshape(mensagem,(-1,11))\n",
    "        hamming = list(np.arange(len(mensagem)))\n",
    "      \n",
    "        for m in range(len(mensagem)):\n",
    "                hamming[slice(m*15,m*15+15,1)] = (np.dot(mensagem[m],G)%2)\n",
    "\n",
    "        hamming=np.insert(hamming,0,l).astype('uint8')\n",
    "        return hamming\n",
    "\n",
    "\n",
    "        \n",
    "\t\n",
    "def error_dectetion_correction(signal,bitsremove):\n",
    "        \n",
    "\n",
    "        signal=np.reshape(np.array(signal),(-1,15))\n",
    "\n",
    "        sindroma = np.arange(len(signal)*4,dtype=\"uint8\")\n",
    "\n",
    "        P= np.array([[1,1,0,0],[1,0,1,0],[1,0,0,1],[0,1,1,0],[0,1,0,1],[0,0,1,1],[1,1,1,0],[1,1,0,1],[1,0,1,1],[0,1,1,1],[1,1,1,1]])\n",
    "        G= np.hstack((np.matrix.transpose(P),np.eye(4,dtype=np.uint8)))\n",
    "        G=np.matrix.transpose(G)\n",
    "        \n",
    "        for s in range(len(signal)):\n",
    "                \n",
    "                sindroma[slice(s*4,s*4+4,1)] = (np.dot(signal[s],G)%2)\n",
    "\n",
    "        sindroma = np.reshape(sindroma,(-1,4))\n",
    "        \n",
    "        valores=descodifica_sindroma(sindroma,len(sindroma))\n",
    "\n",
    "        padroes=(list(map(lambda x:Tabela[x],valores)))\n",
    "        \n",
    "        sinal_final=(list(map(lambda x,y:np.bitwise_xor(x,y),signal,padroes)))\n",
    "\n",
    "        sem_sindroma =  np.arange(len(sinal_final)*11)\n",
    "\n",
    "        for n in range(len(sinal_final)):\n",
    "                sem_sindroma[slice(n*11,n*11+11,1)] = sinal_final[n][:11]\n",
    "\n",
    "        \n",
    "        remove_bits = sem_sindroma[:len(sem_sindroma)-bitsremove]\n",
    "        \n",
    "        return remove_bits"
   ]
  },
  {
   "cell_type": "code",
   "execution_count": 20,
   "metadata": {},
   "outputs": [
    {
     "name": "stdout",
     "output_type": "stream",
     "text": [
      "tamanho de b 786432\n",
      "primeiros 20 valores da imagem: [226 137 125 226 137 125 223 137 133 223 136 128 226 138 120 226 129 116\n",
      " 228 138]\n",
      "primeiros 20 valores de quantificação: [ 15  68 227  15  68 227 246  68  36 246  60 251  15  76 187  15   4 155\n",
      "  31  76]\n",
      "tamanho de codificação: 6291456\n",
      "primeiros 20 valores de codificação: [0 0 0 0 1 1 1 1 0 1 0 0 0 1 0 0 1 1 1 0]\n",
      "tamanho após correção erros: 6291456\n",
      "primeiros 20 valores após correção: [0 0 0 0 1 1 1 1 0 1 0 0 0 1 0 0 1 1 1 0]\n",
      "tamanho do decod 786432\n",
      "primeiros 20 valores de decodificação [ 15  68 227  15  68 227 246  68  36 246  60 251  15  76 187  15   4 155\n",
      "  31  76]\n",
      "acabou\n"
     ]
    }
   ],
   "source": [
    "# emissor\n",
    "im_inicial = Image.open(\"lena_color.tif\")\n",
    "largura, altura = im_inicial.size\n",
    "\n",
    "#converter num np.array\n",
    "a = np.array(im_inicial)\n",
    "b = a.flatten()\n",
    "print(\"tamanho de b\",len(b))\n",
    "print(\"primeiros 20 valores da imagem:\",b[0:20])\n",
    "\n",
    "\n",
    "#quantificação\n",
    "index ,valores = quantifica_sinal(b,12)\n",
    "#criação dicionário para desquantificação\n",
    "dicionario = cria_dicionario(index,valores)\n",
    "print(\"primeiros 20 valores de quantificação:\",index[0:20])\n",
    "\n",
    "\n",
    "#codificação\n",
    "cod = codificador(index,8)\n",
    "print(\"tamanho de codificação:\",len(cod))\n",
    "print(\"primeiros 20 valores de codificação:\",cod[0:20])\n",
    "\n",
    "\n",
    "#hamming 15x11\n",
    "ham = hamming(cod)\n",
    "hed = cod_image(largura,altura,ham[0:4])\n",
    "\n",
    "\n",
    "\n",
    "#modulação QPSK\n",
    "mod = modulation_QPSK(ham[4:],8,1)\n",
    "\n",
    "#canal AWGN \n",
    "noise_mod = AWGN_channel(mod,1e-1)\n",
    "\n",
    "\n",
    "#desmodelador QPSK\n",
    "demod = demodulation_QPSK(noise_mod,8,1)\n",
    "\n",
    "\n",
    "#correção erros\n",
    "padding = descod_number(hed[len(hed)-4:len(hed)])\n",
    "error_correction = error_dectetion_correction(demod,padding)\n",
    "print(\"tamanho após correção erros:\",len(error_correction))\n",
    "print(\"primeiros 20 valores após correção:\",error_correction[0:20])\n",
    "\n",
    "#descodificador\n",
    "decod = descodifier(error_correction,8)\n",
    "print(\"tamanho do decod\",len(decod))\n",
    "print(\"primeiros 20 valores de decodificação\",decod[0:20])\n",
    "\n",
    "#desquantificação\n",
    "desq = desquantifica(decod,dicionario)\n",
    "print(\"primeiros 20 valores após desquantificação:\",desq[0:20])\n",
    "\n",
    "#criação imagem\n",
    "image_shape = descod_numbers(hed[0:20],10)\n",
    "image_final = Image.fromarray(np.reshape(desq,(image_shape[0],image_shape[1],3)))\n",
    "image_final.save(\"noisy_lena.bmp\")\n",
    "\n",
    "print(\"acabou\")"
   ]
  },
  {
   "cell_type": "markdown",
   "metadata": {},
   "source": [
    "Para executar as seguintes intruções o programa demorou: --- 184.7424235343933 seconds ---"
   ]
  },
  {
   "cell_type": "markdown",
   "metadata": {},
   "source": [
    "Os valores teoricos e práticos de SNR"
   ]
  },
  {
   "cell_type": "code",
   "execution_count": 8,
   "metadata": {},
   "outputs": [],
   "source": [
    "def calculate_error(signal, original):\n",
    "\n",
    "    error = np.arange(len(signal),dtype =np.float64)\n",
    "\n",
    "    for a in range(len(signal)):\n",
    "        error[a] = signal[a]-original[a]\n",
    "\n",
    "    return error\n",
    "\n",
    "\n",
    "def SNR_calculater(signal, original):\n",
    "\n",
    "    error_index =  calculate_error(signal, original)\n",
    "\n",
    "    Px = np.sum(np.power(signal,2))/len(signal)\n",
    "\n",
    "    Peq = np.sum(np.power(error_index,2))/len(signal)\n",
    "\n",
    "    SNR = 10*np.log10(Px/Peq)\n",
    "\n",
    "    return SNR\n",
    "\n",
    "\n",
    "\n",
    "def SNR_teorical(signal, nbits):\n",
    "\n",
    "    Px = np.sum(np.power(signal,2))/len(signal)\n",
    "\n",
    "    SNR = 6.02*nbits + 10*np.log10((3*Px)/(max(signal)**2))\n",
    "\n",
    "    return SNR"
   ]
  },
  {
   "cell_type": "markdown",
   "metadata": {},
   "source": [
    "Valores de SNR no canal para valores de ruído de 1e-1, 0.5, 1 e 2."
   ]
  },
  {
   "cell_type": "code",
   "execution_count": 10,
   "metadata": {},
   "outputs": [],
   "source": [
    "im_inicial = Image.open(\"lena_color.tif\")\n",
    "largura, altura = im_inicial.size\n",
    "\n",
    "#converter num np.array\n",
    "a = np.array(im_inicial)\n",
    "b = a.flatten()\n",
    "\n",
    "#quantificação\n",
    "index ,valores = quantifica_sinal(b,12)\n",
    "#criação dicionário para desquantificação\n",
    "dicionario = cria_dicionario(index,valores)\n",
    "\n",
    "\n",
    "\n",
    "\n",
    "#codificação\n",
    "cod = codificador(index,8)\n",
    "\n",
    "\n",
    "#hamming 15x11\n",
    "ham = hamming(cod)\n",
    "hed = cod_image(largura,altura,ham[0:4])\n",
    "\n",
    "\n",
    "\n",
    "#modulação QPSK\n",
    "mod = modulation_QPSK(ham[4:],8,1)"
   ]
  },
  {
   "cell_type": "code",
   "execution_count": 12,
   "metadata": {},
   "outputs": [
    {
     "name": "stdout",
     "output_type": "stream",
     "text": [
      "SNR no canal\n",
      "\n",
      "SNR com erro de 1e-1: 91.37638362540022\n"
     ]
    }
   ],
   "source": [
    "#canal AWGN\n",
    "print(\"SNR no canal\")\n",
    "print()\n",
    "noise_mod = AWGN_channel(mod,1e-1)\n",
    "snr_1 = SNR_calculater(mod,noise_mod)\n",
    "print(\"SNR com erro de 1e-1:\",snr_1)"
   ]
  },
  {
   "cell_type": "code",
   "execution_count": 12,
   "metadata": {},
   "outputs": [
    {
     "name": "stdout",
     "output_type": "stream",
     "text": [
      "SNR com erro de 0.5: 84.38493877481919\n"
     ]
    }
   ],
   "source": [
    "noise_mod_2 = AWGN_channel(mod,0.5)\n",
    "snr_2 = SNR_calculater(mod,noise_mod_2)\n",
    "print(\"SNR com erro de 0.5:\",snr_2)"
   ]
  },
  {
   "cell_type": "code",
   "execution_count": 11,
   "metadata": {},
   "outputs": [
    {
     "name": "stdout",
     "output_type": "stream",
     "text": [
      "SNR com erro de 1: 81.37554025053188\n"
     ]
    }
   ],
   "source": [
    "noise_mod_3 = AWGN_channel(mod,1)\n",
    "snr_3 = SNR_calculater(mod,noise_mod_3)\n",
    "print(\"SNR com erro de 1:\",snr_3)"
   ]
  },
  {
   "cell_type": "code",
   "execution_count": 11,
   "metadata": {},
   "outputs": [
    {
     "name": "stdout",
     "output_type": "stream",
     "text": [
      "SNR com erro de 1: 78.36433128717088\n"
     ]
    }
   ],
   "source": [
    "noise_mod_4 = AWGN_channel(mod,2)\n",
    "snr_4 = SNR_calculater(mod,noise_mod_4)\n",
    "print(\"SNR com erro de 1:\",snr_4)"
   ]
  },
  {
   "cell_type": "code",
   "execution_count": 11,
   "metadata": {},
   "outputs": [
    {
     "name": "stdout",
     "output_type": "stream",
     "text": [
      "SNR no emissor: 25.104873137234648\n",
      "SNR no receptor: 25.143209235336563\n"
     ]
    }
   ],
   "source": [
    "# emissor\n",
    "im_inicial = Image.open(\"lena_color.tif\")\n",
    "largura, altura = im_inicial.size\n",
    "\n",
    "#converter num np.array\n",
    "a = np.array(im_inicial)\n",
    "b = a.flatten()\n",
    "\n",
    "#SNR no emissor\n",
    "snr_antes = SNR_teorical(b,8)\n",
    "print(\"SNR no emissor:\",snr_antes)\n",
    "\n",
    "\n",
    "#quantificação\n",
    "index ,valores = quantifica_sinal(b,12)\n",
    "#criação dicionário para desquantificação\n",
    "dicionario = cria_dicionario(index,valores)\n",
    "\n",
    "\n",
    "#codificação\n",
    "cod = codificador(index,8)\n",
    "\n",
    "\n",
    "#hamming 15x11\n",
    "ham = hamming(cod)\n",
    "hed = cod_image(largura,altura,ham[0:4])\n",
    "\n",
    "\n",
    "\n",
    "#modulação QPSK\n",
    "mod = modulation_QPSK(ham[4:],8,1)\n",
    "\n",
    "#canal AWGN \n",
    "noise_mod = AWGN_channel(mod,1e-1)\n",
    "\n",
    "\n",
    "#desmodelador QPSK\n",
    "demod = demodulation_QPSK(noise_mod,8,1)\n",
    "\n",
    "\n",
    "#correção erros\n",
    "padding = descod_number(hed[len(hed)-4:len(hed)])\n",
    "error_correction = error_dectetion_correction(demod,padding)\n",
    "\n",
    "#descodificador\n",
    "decod = descodifier(error_correction,8)\n",
    "\n",
    "#desquantificação\n",
    "desq = desquantifica(decod,dicionario)\n",
    "\n",
    "#SNR no receptor\n",
    "snr_depois = SNR_teorical(desq,8)\n",
    "print(\"SNR no receptor:\",snr_depois)"
   ]
  },
  {
   "cell_type": "code",
   "execution_count": 20,
   "metadata": {},
   "outputs": [],
   "source": [
    "def calculate_BER(signal,original):\n",
    "    \n",
    "    count = 0\n",
    "\n",
    "    signal = signal.astype(np.int8)\n",
    "    original = original.astype(np.int8)\n",
    "\n",
    "    for a in range(len(signal)):\n",
    "        if(signal[a] - original[a] != 0):\n",
    "            count += 1\n",
    "\n",
    "    result = count/len(signal)\n",
    "\n",
    "    return result\n",
    "\n",
    "def QPSK_BER(signal, eb, n0):\n",
    "\n",
    "\tber = 0.5*special.erfc(np.sqrt((eb/n0)))\n",
    "\n",
    "\treturn ber"
   ]
  },
  {
   "cell_type": "code",
   "execution_count": 10,
   "metadata": {},
   "outputs": [
    {
     "name": "stdout",
     "output_type": "stream",
     "text": [
      "BER antes da correção de erros:  0.15865525393145707\n",
      "BER depois da correção de erros:  0.1266036033630371\n"
     ]
    }
   ],
   "source": [
    "# emissor\n",
    "im_inicial = Image.open(\"lena_color.tif\")\n",
    "largura, altura = im_inicial.size\n",
    "\n",
    "#converter num np.array\n",
    "a = np.array(im_inicial)\n",
    "b = a.flatten()\n",
    "\n",
    "\n",
    "#quantificação\n",
    "index ,valores = quantifica_sinal(b,9)\n",
    "#criação dicionário para desquantificação\n",
    "dicionario = cria_dicionario(index,valores)\n",
    "\n",
    "\n",
    "#codificação\n",
    "cod = codificador(index,8)\n",
    "\n",
    "\n",
    "#hamming 15x11\n",
    "ham = hamming(cod)\n",
    "hed = cod_image(largura,altura,ham[0:4])\n",
    "\n",
    "\n",
    "\n",
    "#modulação QPSK\n",
    "mod = modulation_QPSK(ham[4:],8,1)\n",
    "\n",
    "\n",
    "#Canal AWGN\n",
    "noise_mod = AWGN_channel(mod,2)\n",
    "\n",
    "\n",
    "#desmodelador QPSK\n",
    "demod = demodulation_QPSK(noise_mod,8,1)\n",
    "ber_antes = QPSK_BER(demod,1,2)\n",
    "print(\"BER antes da correção de erros: \",ber_antes)\n",
    "\n",
    "\n",
    "#correção erros\n",
    "padding = descod_number(hed[len(hed)-4:len(hed)])\n",
    "error_correction = error_dectetion_correction(demod,padding)\n",
    "ber_depois = calculate_BER(error_correction,cod)\n",
    "print(\"BER depois da correção de erros: \",ber_depois)"
   ]
  },
  {
   "cell_type": "code",
   "execution_count": 21,
   "metadata": {},
   "outputs": [
    {
     "name": "stdout",
     "output_type": "stream",
     "text": [
      "BER sem correção erros:  0.11173804601033528\n"
     ]
    }
   ],
   "source": [
    "# emissor\n",
    "im_inicial = Image.open(\"lena_color.tif\")\n",
    "largura, altura = im_inicial.size\n",
    "\n",
    "#converter num np.array\n",
    "a = np.array(im_inicial)\n",
    "b = a.flatten()\n",
    "\n",
    "\n",
    "#quantificação\n",
    "index ,valores = quantifica_sinal(b,10)\n",
    "#criação dicionário para desquantificação\n",
    "dicionario = cria_dicionario(index,valores)\n",
    "\n",
    "\n",
    "#codificação\n",
    "cod = codificador(index,8)\n",
    "\n",
    "\n",
    "#modulação QPSK\n",
    "mod = modulation_QPSK(cod,8,1)\n",
    "\n",
    "\n",
    "#Canal AWGN\n",
    "noise_mod = AWGN_channel(mod,2)\n",
    "\n",
    "\n",
    "#desmodelador QPSK\n",
    "demod = demodulation_QPSK(noise_mod,8,1)\n",
    "\n",
    "\n",
    "ber_depois = calculate_BER(demod,cod)\n",
    "print(\"BER sem correção erros: \",ber_depois)\n",
    "\n",
    "#descodificador\n",
    "decod = descodifier(demod,8)\n",
    "\n",
    "#desquantificação\n",
    "desq = desquantifica(decod,dicionario)\n"
   ]
  },
  {
   "cell_type": "markdown",
   "metadata": {},
   "source": [
    "Nos ficheiros encontram-se exemplos da imagem para quantificação de 1, 4, 8 e 12.\n",
    "Todas as imagens sem o nome de quanti no nome foram geradas com uma quantificação de 12 bits.\n",
    "Além de diversas quantificações também foram gerados com diversos valores de ruído, sendo eles de 0.1, 0.5, 1 e 2."
   ]
  },
  {
   "cell_type": "markdown",
   "metadata": {},
   "source": [
    "Perante os resultados obtidos somente o BER do sistema sem correção de erros é que deveria possuir um valor superior do BER em relação ao sistema com correção de erros. A parte disso todos os outros resultados aparentam corretos."
   ]
  },
  {
   "cell_type": "markdown",
   "metadata": {},
   "source": [
    "# Conclusão"
   ]
  },
  {
   "cell_type": "markdown",
   "metadata": {},
   "source": [
    "Em suma, com o presente trabalho prático foi possível simular toda a transmissão de um sinal até um receptor atravessando todos os passos.\n",
    "- Para isso inicialmente realiza-se a quantificação que é a transformação da analógica para amplitude discreta.\n",
    "- Após isso é feita a codificação dos indices da quantificação, isto é transformar de um número decimal para binário.\n",
    "- Para corrigir possíveis erros utiliza-se código de Hamming 15x11 onde para cada conjunto de 11 bits adiciona-se 4 bits de paridade para corrigir erros.\n",
    "- De seguida é feita a modulação QPSK onde se transforma a cada dois conjunto bits se simula com uma fase de um cosseno.\n",
    "- Esse sinal passa por um canal AWGN que adiciona ruído.\n",
    "- De seguida desmodela-se obtendo os dois bits que originaram o sinal analógico.\n",
    "- É feita a descodificação para obter o número inteiro do indice do valor que foi gerado na quantificação\n",
    "- Por fim desquantifica-se para se obter o sinal original\n",
    "\n",
    "\n",
    "\n"
   ]
  }
 ],
 "metadata": {
  "kernelspec": {
   "display_name": "Python 3",
   "language": "python",
   "name": "python3"
  },
  "language_info": {
   "codemirror_mode": {
    "name": "ipython",
    "version": 3
   },
   "file_extension": ".py",
   "mimetype": "text/x-python",
   "name": "python",
   "nbconvert_exporter": "python",
   "pygments_lexer": "ipython3",
   "version": "3.7.4"
  }
 },
 "nbformat": 4,
 "nbformat_minor": 2
}
